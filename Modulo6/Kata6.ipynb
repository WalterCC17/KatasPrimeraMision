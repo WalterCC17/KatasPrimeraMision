{
 "cells": [
  {
   "cell_type": "markdown",
   "metadata": {},
   "source": [
    "# Kata 6\n",
    "## Ejercicio 1 \n",
    "Usar listas para almacenar nombres de planetas"
   ]
  },
  {
   "cell_type": "code",
   "execution_count": 1,
   "metadata": {},
   "outputs": [
    {
     "name": "stdout",
     "output_type": "stream",
     "text": [
      "['Mercurio', 'Venus', 'Tierra', 'Marte', 'Jupiter', 'Saturno', 'Urano', 'Neptuno', 'Pluton']\n"
     ]
    }
   ],
   "source": [
    "planets = [\"Mercurio\", \"Venus\", \"Tierra\", \"Marte\", \"Jupiter\",\"Saturno\", \"Urano\", \"Neptuno\"]\n",
    "planets.append(\"Pluton\")\n",
    "print(planets)"
   ]
  },
  {
   "cell_type": "markdown",
   "metadata": {},
   "source": [
    "## Ejercicio 2\n",
    "Usar slices para recuperar partes de una lista"
   ]
  },
  {
   "cell_type": "code",
   "execution_count": 8,
   "metadata": {},
   "outputs": [
    {
     "name": "stdout",
     "output_type": "stream",
     "text": [
      "Los planetas mas cercanos al sol antes de  Mars son: ['Mercury', 'Venus', 'Earth']\n",
      "Los planetas mas lejanos al sol despues de  Mars son: ['Jupiter', 'Saturn', 'Neptune']\n"
     ]
    }
   ],
   "source": [
    "# Lista de planetas\n",
    "planets = ['Mercury', 'Venus', 'Earth', 'Mars', 'Jupiter', 'Saturn', 'Neptune']\n",
    "Nplanet = input(\"Ingrese el nombre del planeta deseado, Favor ingresarlo con letra inicial mayuscula: \")\n",
    "busqueda = planets.index(Nplanet)\n",
    "print(\"Los planetas mas cercanos al sol antes de \", Nplanet,\"son:\",planets[0:busqueda])\n",
    "\n",
    "print(\"Los planetas mas lejanos al sol despues de \", Nplanet,\"son:\",planets[busqueda+1:])"
   ]
  }
 ],
 "metadata": {
  "interpreter": {
   "hash": "842ae17d9d05742518025976bee2d654c86abf4f9ed0a699f16ec04770409744"
  },
  "kernelspec": {
   "display_name": "Python 3.10.2 64-bit (windows store)",
   "language": "python",
   "name": "python3"
  },
  "language_info": {
   "codemirror_mode": {
    "name": "ipython",
    "version": 3
   },
   "file_extension": ".py",
   "mimetype": "text/x-python",
   "name": "python",
   "nbconvert_exporter": "python",
   "pygments_lexer": "ipython3",
   "version": "3.10.2"
  },
  "orig_nbformat": 4
 },
 "nbformat": 4,
 "nbformat_minor": 2
}
