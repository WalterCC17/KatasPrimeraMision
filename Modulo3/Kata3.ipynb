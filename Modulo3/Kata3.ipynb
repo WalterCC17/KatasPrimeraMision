{
 "cells": [
  {
   "cell_type": "markdown",
   "metadata": {},
   "source": [
    "# Kata 3\n",
    "### Ejercicio - escribir declaraciones if, else y elif"
   ]
  },
  {
   "cell_type": "code",
   "execution_count": 4,
   "metadata": {},
   "outputs": [
    {
     "name": "stdout",
     "output_type": "stream",
     "text": [
      "¡devertencia! asteroide con direccion a la tierra se acerca con gran velocidad\n"
     ]
    }
   ],
   "source": [
    "# Velocidad superior a 25 kilómetros por segundo (km/s) merece una advertencia.\n",
    "# Un asteroide se acerca, y viaja a una velocidad de 49 km/s.\n",
    "asteroide = 49\n",
    "velocidadalar = 25\n",
    "if asteroide > velocidadalar:\n",
    "    print(\"¡devertencia! asteroide con direccion a la tierra se acerca con gran velocidad\")\n",
    "else:\n",
    "    print(\"Todo bien\")\n",
    "\n"
   ]
  },
  {
   "cell_type": "markdown",
   "metadata": {},
   "source": [
    "#### Ejercicio 2\n",
    "Si un asteroide entra en la atmósfera de la Tierra a una velocidad mayor o igual a 20 km/s, a veces produce un rayo de luz que se puede ver desde la Tierra. Escribe la lógica condicional que usa declaraciones if, else, y elif para alertar a las personas de todo el mundo que deben buscar un asteroide en el cielo. ¡Hay uno que se dirige a la tierra ahora a una velocidad de 19 km/s!"
   ]
  },
  {
   "cell_type": "code",
   "execution_count": 8,
   "metadata": {},
   "outputs": [
    {
     "name": "stdout",
     "output_type": "stream",
     "text": [
      "Ingrese una respuesta valida\n"
     ]
    }
   ],
   "source": [
    "#asteroide que viaja a 19 km/s\n",
    "asteroide = 50\n",
    "if asteroide >= 20:\n",
    "    vista = input(\"Se logro ver el rayo de luz: \")\n",
    "    if vista == \"si\":\n",
    "        print(\"Alerta mundial un asteroide a producido un rayo de luz :)\")\n",
    "    elif vista == \"no\":\n",
    "        print(\"No alertar a nadie\")\n",
    "    else:\n",
    "        print(\"Ingrese una respuesta valida\")\n",
    "else:\n",
    "    print(\"El asteroide no ingreso con la velocidad suficiente\")"
   ]
  },
  {
   "cell_type": "markdown",
   "metadata": {},
   "source": [
    "#### Ejercicio 3\n",
    "Los asteroides de menos de 25 metros en su dimensión más grande probablemente se quemarán a medida que entren en la atmósfera de la Tierra.\n",
    "\n",
    "Si una pieza de un asteroide que es más grande que 25 metros pero más pequeña que 1000 metros golpeara la Tierra, causaría mucho daño.\n",
    "También discutimos en el ejercicio anterior que:\n",
    "\n",
    "La velocidad del asteroide varía en función de lo cerca que esté del sol, y cualquier velocidad superior a 25 kilómetros por segundo (km/s) merece una advertencia.\n",
    "Si un asteroide entra en la atmósfera de la Tierra a una velocidad mayor o igual a 20 km/s, a veces produce un rayo de luz que se puede ver desde la Tierra.\n",
    "Usando toda esta información, escribe un programa que emita la advertencia o información correcta a la gente de la Tierra, según la velocidad y el tamaño de un asteroide. Utiliza instrucciones if, else, y elif, así como los operadores and y or."
   ]
  },
  {
   "cell_type": "code",
   "execution_count": 36,
   "metadata": {},
   "outputs": [
    {
     "name": "stdout",
     "output_type": "stream",
     "text": [
      "Advertencia se acerca un asteroide de gran tamaño que impactara con la tierra.\n",
      "No se producio un destello de luz\n"
     ]
    }
   ],
   "source": [
    "Vasteroid = 26\n",
    "Tasteroid = 26\n",
    "\n",
    "if Tasteroid > 25 or Vasteroid > 25:\n",
    "    if Tasteroid > 25 and Tasteroid <1000:\n",
    "        print(\"Advertencia se acerca un asteroide de gran tamaño que impactara con la tierra.\")\n",
    "        if Vasteroid >= 25:\n",
    "            vista = input(\"Se logro ver el rayo de luz: \")\n",
    "            if vista == \"si\":\n",
    "                print(\"Alerta mundial un asteroide a gran velocidad a producido un rayo de luz :), pero causara mucho daño :(\")\n",
    "            elif vista == \"no\":\n",
    "                print(\"No se producio un destello de luz\")\n",
    "            else:\n",
    "                print(\"Ingrese una respuesta valida con respecto al avistamiento del rayo de luz\")\n",
    "        else:\n",
    "            print(\"El asteroide no ingreso con la velocidad suficiente para poder ver un destello de luz\")\n",
    "    else:\n",
    "        print(\"El asteroide se quemo al entrar a la atmosfera\")\n",
    "else:\n",
    "    print(\"Todo esta bien\")\n",
    "\n",
    "\n"
   ]
  }
 ],
 "metadata": {
  "interpreter": {
   "hash": "842ae17d9d05742518025976bee2d654c86abf4f9ed0a699f16ec04770409744"
  },
  "kernelspec": {
   "display_name": "Python 3.10.2 64-bit (windows store)",
   "language": "python",
   "name": "python3"
  },
  "language_info": {
   "codemirror_mode": {
    "name": "ipython",
    "version": 3
   },
   "file_extension": ".py",
   "mimetype": "text/x-python",
   "name": "python",
   "nbconvert_exporter": "python",
   "pygments_lexer": "ipython3",
   "version": "3.10.2"
  },
  "orig_nbformat": 4
 },
 "nbformat": 4,
 "nbformat_minor": 2
}
